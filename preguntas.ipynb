{
 "cells": [
  {
   "cell_type": "markdown",
   "metadata": {},
   "source": [
    "# HDT2 \n",
    "\n",
    "## Task 1 - Preguntas Teóricas\n",
    "\n",
    "1. **Defina el proceso de decisión de Markov (MDP) y explique sus componentes.**\n",
    "MDP es un modelo matemático que se usa para tomar decisiones que pueden tener resultados parcialmente aleatorios y dependen del estado en el que esté el sistema. Sus componentes son:<br>\n",
    "*S* (Estado) -> Posibles estados del agente. <br>\n",
    "*A* (Acciones) -> Acciones que puede tomar el agente. <br>\n",
    "*P* (Función de transición de probabilidad) -> Describe la probabilidad de llegar de un estado a otro con una acción. <br>\n",
    "*R* (Función de recompensa) -> Describe la recompensa inmediata de que el agente tome una acción en el estado. <br>\n",
    "*γ* (Factor de descuento) -> Valor entre 0 y 1 que determina el valor de las recompensas futuras en comparación a las inmediatas. <br>\n",
    "\n",
    "2. **Describa cual es la diferencia entre política, evaluación de políticas, mejora de políticas e iteración de políticas en el contexto de los PDM.**\n",
    "La política es la estrategia con la que el agente toma decisiones. Tiene dos formas, determinista y estocástica. La determinista siempre tiene una acción fija por estado, mientras que la estocástica le asigna probabilidades a diferentes acciones en el mismo estado. La evaluación de políticas es el cálculo del valor esperado para seguir una política. \n",
    "\n",
    "3. **Explique el concepto de factor de descuento (gamma) en los MDP. ¿Cómo influye en la toma de decisiones?**\n",
    "4. **Analice la diferencia entre los algoritmos de iteración de valores y de iteración de políticas para resolver MDP.**\n",
    "5. **¿Cuáles son algunos desafíos o limitaciones comunes asociados con la resolución de MDP a gran escala? Discuta los enfoques potenciales para abordar estos desafíos.**\n",
    "\n",
    "## Task 2 - Preguntas Analíticas"
   ]
  }
 ],
 "metadata": {
  "language_info": {
   "name": "python"
  }
 },
 "nbformat": 4,
 "nbformat_minor": 2
}
